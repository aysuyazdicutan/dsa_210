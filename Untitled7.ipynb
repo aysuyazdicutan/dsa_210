{
 "cells": [
  {
   "cell_type": "code",
   "execution_count": null,
   "id": "f177c716-3aca-4cd2-ab3e-0f0b9535aeb3",
   "metadata": {},
   "outputs": [],
   "source": []
  }
 ],
 "metadata": {
  "kernelspec": {
   "display_name": "",
   "name": ""
  },
  "language_info": {
   "name": ""
  }
 },
 "nbformat": 4,
 "nbformat_minor": 5
}
